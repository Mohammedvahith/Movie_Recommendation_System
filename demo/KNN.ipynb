{
 "cells": [
  {
   "cell_type": "markdown",
   "metadata": {},
   "source": [
    "1. Import Libraries"
   ]
  },
  {
   "cell_type": "code",
   "execution_count": 22,
   "metadata": {},
   "outputs": [],
   "source": [
    "import pandas as pd\n",
    "import numpy as np\n",
    "import ast\n",
    "from fuzzywuzzy import process\n",
    "from sklearn.feature_extraction.text import TfidfVectorizer\n",
    "from sklearn.metrics.pairwise import cosine_similarity\n",
    "from sklearn.neighbors import NearestNeighbors\n",
    "from sklearn.metrics import precision_score, recall_score, f1_score"
   ]
  },
  {
   "cell_type": "markdown",
   "metadata": {},
   "source": [
    "2. Data Exploration"
   ]
  },
  {
   "cell_type": "code",
   "execution_count": 23,
   "metadata": {},
   "outputs": [],
   "source": [
    "# Load the movie and credits data\n",
    "movies = pd.read_csv('../datasets/tmdb_5000_movies.csv')\n",
    "credits = pd.read_csv('../datasets/tmdb_5000_credits.csv')\n",
    "\n",
    "# Rename 'movie_id' to 'id' in the credits dataframe to match the movies dataframe\n",
    "credits = credits.rename(columns={'movie_id': 'id'})\n",
    "\n",
    "# Merge the movies dataframe with the credits dataframe on 'id'\n",
    "movies = movies.merge(credits, on='id')\n",
    "\n",
    "# Fill any missing values in the 'genres' and 'cast' columns\n",
    "movies['genres'] = movies['genres'].fillna('')\n",
    "movies['cast'] = movies['cast'].fillna('')\n",
    "\n",
    "# Convert genres from string to list\n",
    "movies['genres'] = movies['genres'].apply(lambda x: [i['name'] for i in ast.literal_eval(x)] if isinstance(x, str) else [])\n",
    "\n",
    "# Convert cast from string to list (first 3 actors for simplicity)\n",
    "movies['cast'] = movies['cast'].apply(lambda x: [i['name'] for i in ast.literal_eval(x)] if isinstance(x, str) else [])"
   ]
  },
  {
   "cell_type": "markdown",
   "metadata": {},
   "source": [
    "3. Content-Based Filtering"
   ]
  },
  {
   "cell_type": "code",
   "execution_count": 24,
   "metadata": {},
   "outputs": [],
   "source": [
    "# Combine genres and cast into a single string (for each movie)\n",
    "movies['combined_features'] = movies['genres'].apply(lambda x: ' '.join(x)) + ' ' + movies['cast'].apply(lambda x: ' '.join(x))\n",
    "\n",
    "# Drop 'title_y' column and rename 'title_x' to 'title'\n",
    "movies = movies.drop(columns=['title_y'])\n",
    "movies = movies.rename(columns={'title_x': 'title'})"
   ]
  },
  {
   "cell_type": "code",
   "execution_count": 25,
   "metadata": {},
   "outputs": [],
   "source": [
    "# Function to combine features into a single string\n",
    "def combine_features(row):\n",
    "    # Handle missing or non-string values by converting to string\n",
    "    genres = \" \".join(row['genres']) if isinstance(row['genres'], list) else str(row['genres'])\n",
    "    keywords = \" \".join(row['keywords']) if isinstance(row['keywords'], list) else str(row['keywords'])\n",
    "    cast = \" \".join(row['cast']) if isinstance(row['cast'], list) else str(row['cast'])\n",
    "    overview = str(row['overview'])  # Ensure 'overview' is a string\n",
    "\n",
    "    # Combine all features into a single string\n",
    "    return genres + ' ' + keywords + ' ' + cast + ' ' + overview\n",
    "\n",
    "# Apply the function to create the 'combined_features' column\n",
    "movies['combined_features'] = movies.apply(combine_features, axis=1)"
   ]
  },
  {
   "cell_type": "code",
   "execution_count": 26,
   "metadata": {},
   "outputs": [
    {
     "name": "stdout",
     "output_type": "stream",
     "text": [
      "0    Action Adventure Fantasy Science Fiction [{\"id...\n",
      "1    Adventure Fantasy Action [{\"id\": 270, \"name\": ...\n",
      "2    Action Adventure Crime [{\"id\": 470, \"name\": \"s...\n",
      "3    Action Crime Drama Thriller [{\"id\": 849, \"name...\n",
      "4    Action Adventure Science Fiction [{\"id\": 818, ...\n",
      "Name: combined_features, dtype: object\n"
     ]
    }
   ],
   "source": [
    "# Check the combined features\n",
    "print(movies['combined_features'].head())"
   ]
  },
  {
   "cell_type": "code",
   "execution_count": 27,
   "metadata": {},
   "outputs": [
    {
     "name": "stdout",
     "output_type": "stream",
     "text": [
      "0     culture clash future space war space colony s...\n",
      "1     ocean drug abuse exotic island east india tra...\n",
      "2     spy based on novel secret agent sequel mi6 br...\n",
      "3     dc comics crime fighter terrorist secret iden...\n",
      "4     based on novel mars medallion space travel pr...\n",
      "Name: combined_features, dtype: object\n"
     ]
    }
   ],
   "source": [
    "# Function to extract 'name' from a list of dictionaries\n",
    "def extract_names(data):\n",
    "    try:\n",
    "        # If the data is a string representation of a list, convert it back to a list\n",
    "        if isinstance(data, str):\n",
    "            data = ast.literal_eval(data)\n",
    "        \n",
    "        # If it's a list of dictionaries, extract the 'name' field from each dictionary\n",
    "        if isinstance(data, list):\n",
    "            names = [item['name'] for item in data if isinstance(item, dict)]\n",
    "            return \" \".join(names)  # Join names with a space\n",
    "        else:\n",
    "            return \"\"  # Return empty string if it's not a valid list\n",
    "    except:\n",
    "        return \"\"  # Return empty string if an error occurs\n",
    "\n",
    "# Function to combine features into a single string\n",
    "def combine_features(row):\n",
    "    # Extract the 'name' field for each feature (genres, keywords, cast)\n",
    "    genres = extract_names(row['genres'])\n",
    "    keywords = extract_names(row['keywords'])\n",
    "    cast = extract_names(row['cast'])\n",
    "    overview = str(row['overview'])  # Ensure 'overview' is a string\n",
    "    \n",
    "    # Combine all features into a single string\n",
    "    return genres + ' ' + keywords + ' ' + cast + ' ' + overview\n",
    "\n",
    "# Apply the function to create the 'combined_features' column\n",
    "movies['combined_features'] = movies.apply(combine_features, axis=1)\n",
    "\n",
    "# Check the combined features\n",
    "print(movies['combined_features'].head())"
   ]
  },
  {
   "cell_type": "code",
   "execution_count": 28,
   "metadata": {},
   "outputs": [
    {
     "name": "stdout",
     "output_type": "stream",
     "text": [
      "(4803, 23005)\n"
     ]
    }
   ],
   "source": [
    "# Initialize the vectorizer\n",
    "tfidf = TfidfVectorizer(stop_words='english')\n",
    "\n",
    "# Fit and transform the combined features\n",
    "tfidf_matrix = tfidf.fit_transform(movies['combined_features'])\n",
    "\n",
    "# Check the shape of the tfidf_matrix\n",
    "print(tfidf_matrix.shape)"
   ]
  },
  {
   "cell_type": "code",
   "execution_count": 29,
   "metadata": {},
   "outputs": [
    {
     "name": "stdout",
     "output_type": "stream",
     "text": [
      "(4803, 4803)\n"
     ]
    }
   ],
   "source": [
    "# Compute the cosine similarity matrix\n",
    "cosine_sim = cosine_similarity(tfidf_matrix, tfidf_matrix)\n",
    "\n",
    "# Check the cosine similarity matrix\n",
    "print(cosine_sim.shape)"
   ]
  },
  {
   "cell_type": "code",
   "execution_count": 30,
   "metadata": {},
   "outputs": [],
   "source": [
    "def clean_keywords(keywords_str):\n",
    "    # If the keyword string is empty or None, return an empty set\n",
    "    if not keywords_str:\n",
    "        return set()  # Return empty set if no keywords exist\n",
    "    \n",
    "    try:\n",
    "        # Safely evaluate the string to convert it to a list of dictionaries\n",
    "        keywords_list = ast.literal_eval(keywords_str)\n",
    "    except:\n",
    "        return set()  # Return empty set if evaluation fails\n",
    "    \n",
    "    # Extract 'name' field from each dictionary in the list (if it's a dictionary and has 'name' key)\n",
    "    cleaned_keywords = [kw['name'] for kw in keywords_list if isinstance(kw, dict) and 'name' in kw]\n",
    "    \n",
    "    # Debugging: Print cleaned keywords\n",
    "    #print(f\"Cleaned keywords: {cleaned_keywords}\")\n",
    "    \n",
    "    # Return a set of cleaned keywords\n",
    "    return set(cleaned_keywords)"
   ]
  },
  {
   "cell_type": "markdown",
   "metadata": {},
   "source": [
    "4. KNN"
   ]
  },
  {
   "cell_type": "code",
   "execution_count": 31,
   "metadata": {},
   "outputs": [
    {
     "data": {
      "text/html": [
       "<style>#sk-container-id-1 {color: black;}#sk-container-id-1 pre{padding: 0;}#sk-container-id-1 div.sk-toggleable {background-color: white;}#sk-container-id-1 label.sk-toggleable__label {cursor: pointer;display: block;width: 100%;margin-bottom: 0;padding: 0.3em;box-sizing: border-box;text-align: center;}#sk-container-id-1 label.sk-toggleable__label-arrow:before {content: \"▸\";float: left;margin-right: 0.25em;color: #696969;}#sk-container-id-1 label.sk-toggleable__label-arrow:hover:before {color: black;}#sk-container-id-1 div.sk-estimator:hover label.sk-toggleable__label-arrow:before {color: black;}#sk-container-id-1 div.sk-toggleable__content {max-height: 0;max-width: 0;overflow: hidden;text-align: left;background-color: #f0f8ff;}#sk-container-id-1 div.sk-toggleable__content pre {margin: 0.2em;color: black;border-radius: 0.25em;background-color: #f0f8ff;}#sk-container-id-1 input.sk-toggleable__control:checked~div.sk-toggleable__content {max-height: 200px;max-width: 100%;overflow: auto;}#sk-container-id-1 input.sk-toggleable__control:checked~label.sk-toggleable__label-arrow:before {content: \"▾\";}#sk-container-id-1 div.sk-estimator input.sk-toggleable__control:checked~label.sk-toggleable__label {background-color: #d4ebff;}#sk-container-id-1 div.sk-label input.sk-toggleable__control:checked~label.sk-toggleable__label {background-color: #d4ebff;}#sk-container-id-1 input.sk-hidden--visually {border: 0;clip: rect(1px 1px 1px 1px);clip: rect(1px, 1px, 1px, 1px);height: 1px;margin: -1px;overflow: hidden;padding: 0;position: absolute;width: 1px;}#sk-container-id-1 div.sk-estimator {font-family: monospace;background-color: #f0f8ff;border: 1px dotted black;border-radius: 0.25em;box-sizing: border-box;margin-bottom: 0.5em;}#sk-container-id-1 div.sk-estimator:hover {background-color: #d4ebff;}#sk-container-id-1 div.sk-parallel-item::after {content: \"\";width: 100%;border-bottom: 1px solid gray;flex-grow: 1;}#sk-container-id-1 div.sk-label:hover label.sk-toggleable__label {background-color: #d4ebff;}#sk-container-id-1 div.sk-serial::before {content: \"\";position: absolute;border-left: 1px solid gray;box-sizing: border-box;top: 0;bottom: 0;left: 50%;z-index: 0;}#sk-container-id-1 div.sk-serial {display: flex;flex-direction: column;align-items: center;background-color: white;padding-right: 0.2em;padding-left: 0.2em;position: relative;}#sk-container-id-1 div.sk-item {position: relative;z-index: 1;}#sk-container-id-1 div.sk-parallel {display: flex;align-items: stretch;justify-content: center;background-color: white;position: relative;}#sk-container-id-1 div.sk-item::before, #sk-container-id-1 div.sk-parallel-item::before {content: \"\";position: absolute;border-left: 1px solid gray;box-sizing: border-box;top: 0;bottom: 0;left: 50%;z-index: -1;}#sk-container-id-1 div.sk-parallel-item {display: flex;flex-direction: column;z-index: 1;position: relative;background-color: white;}#sk-container-id-1 div.sk-parallel-item:first-child::after {align-self: flex-end;width: 50%;}#sk-container-id-1 div.sk-parallel-item:last-child::after {align-self: flex-start;width: 50%;}#sk-container-id-1 div.sk-parallel-item:only-child::after {width: 0;}#sk-container-id-1 div.sk-dashed-wrapped {border: 1px dashed gray;margin: 0 0.4em 0.5em 0.4em;box-sizing: border-box;padding-bottom: 0.4em;background-color: white;}#sk-container-id-1 div.sk-label label {font-family: monospace;font-weight: bold;display: inline-block;line-height: 1.2em;}#sk-container-id-1 div.sk-label-container {text-align: center;}#sk-container-id-1 div.sk-container {/* jupyter's `normalize.less` sets `[hidden] { display: none; }` but bootstrap.min.css set `[hidden] { display: none !important; }` so we also need the `!important` here to be able to override the default hidden behavior on the sphinx rendered scikit-learn.org. See: https://github.com/scikit-learn/scikit-learn/issues/21755 */display: inline-block !important;position: relative;}#sk-container-id-1 div.sk-text-repr-fallback {display: none;}</style><div id=\"sk-container-id-1\" class=\"sk-top-container\"><div class=\"sk-text-repr-fallback\"><pre>NearestNeighbors(metric=&#x27;cosine&#x27;, n_neighbors=6)</pre><b>In a Jupyter environment, please rerun this cell to show the HTML representation or trust the notebook. <br />On GitHub, the HTML representation is unable to render, please try loading this page with nbviewer.org.</b></div><div class=\"sk-container\" hidden><div class=\"sk-item\"><div class=\"sk-estimator sk-toggleable\"><input class=\"sk-toggleable__control sk-hidden--visually\" id=\"sk-estimator-id-1\" type=\"checkbox\" checked><label for=\"sk-estimator-id-1\" class=\"sk-toggleable__label sk-toggleable__label-arrow\">NearestNeighbors</label><div class=\"sk-toggleable__content\"><pre>NearestNeighbors(metric=&#x27;cosine&#x27;, n_neighbors=6)</pre></div></div></div></div></div>"
      ],
      "text/plain": [
       "NearestNeighbors(metric='cosine', n_neighbors=6)"
      ]
     },
     "execution_count": 31,
     "metadata": {},
     "output_type": "execute_result"
    }
   ],
   "source": [
    "# Use KNN to find the most similar movies based on TF-IDF features\n",
    "knn = NearestNeighbors(n_neighbors=6, metric='cosine')\n",
    "knn.fit(tfidf_matrix)"
   ]
  },
  {
   "cell_type": "code",
   "execution_count": 38,
   "metadata": {},
   "outputs": [
    {
     "name": "stdout",
     "output_type": "stream",
     "text": [
      "\n",
      "Recommended Movies for 'iron man':\n",
      "1. Iron Man 3\n",
      "2. Iron Man 2\n",
      "3. Avengers: Age of Ultron\n",
      "4. The Incredible Hulk\n",
      "5. Captain America: Civil War\n"
     ]
    }
   ],
   "source": [
    "# Function to get movie index using fuzzy matching\n",
    "def get_movie_index(movie_title, movies_df):\n",
    "    best_match, score = process.extractOne(movie_title, movies_df['title'].values)\n",
    "    if score >= 70:  # Threshold for a good match\n",
    "        return movies_df[movies_df['title'] == best_match].index[0]\n",
    "    else:\n",
    "        print(f\"Movie '{movie_title}' not found or doesn't match closely enough.\")\n",
    "        return None\n",
    "    \n",
    "# Function to recommend movies using KNN based on TF-IDF matrix\n",
    "def get_relevant_movies_knn(movie_title, knn_model, movies_df, tfidf_matrix, top_n=5):\n",
    "    # Get the movie index using fuzzy matching\n",
    "    movie_index = get_movie_index(movie_title, movies_df)\n",
    "    \n",
    "    if movie_index is None:\n",
    "        return []  # Return empty list if no good match is found\n",
    "    \n",
    "    # Get distances and indices of neighbors\n",
    "    distances, indices = knn_model.kneighbors(tfidf_matrix[movie_index], n_neighbors=top_n + 1)\n",
    "    \n",
    "    # Extract movie titles, skipping the first result (the movie itself)\n",
    "    relevant_movies = [movies_df.iloc[i]['title'] for i in indices[0][1:]]\n",
    "    \n",
    "    return relevant_movies\n",
    "\n",
    "# List of movie titles to test\n",
    "movie_title = input(\"Enter the movie name: \")\n",
    "\n",
    "# Get the relevant movies\n",
    "recommended_movies = get_relevant_movies_knn(movie_title, knn, movies, tfidf_matrix, top_n=5)\n",
    "\n",
    "# Print recommended movies\n",
    "print(f\"\\nRecommended Movies for '{movie_title}':\")\n",
    "for i, movie in enumerate(recommended_movies, 1):\n",
    "    print(f\"{i}. {movie}\")\n"
   ]
  },
  {
   "cell_type": "code",
   "execution_count": 39,
   "metadata": {},
   "outputs": [
    {
     "name": "stdout",
     "output_type": "stream",
     "text": [
      "\n",
      "Recommended Movies for 'pirates':\n",
      "1. Pirates of the Caribbean: Dead Man's Chest\n",
      "2. Pirates of the Caribbean: The Curse of the Black Pearl\n",
      "3. Pirates of the Caribbean: On Stranger Tides\n",
      "4. The Pirates! In an Adventure with Scientists!\n",
      "5. The Blue Lagoon\n",
      "\n",
      "Precision at 5: 1.0\n",
      "Recall at 5: 1.0\n"
     ]
    }
   ],
   "source": [
    "# Function to get movie index using fuzzy matching\n",
    "def get_movie_index(movie_title, movies_df):\n",
    "    best_match, score = process.extractOne(movie_title, movies_df['title'].values)\n",
    "    if score >= 70:  # Threshold for a good match\n",
    "        return movies_df[movies_df['title'] == best_match].index[0]\n",
    "    else:\n",
    "        print(f\"Movie '{movie_title}' not found or doesn't match closely enough.\")\n",
    "        return None\n",
    "\n",
    "# Function to get relevant movies dynamically based on similarity using cosine similarity\n",
    "def get_relevant_movies_by_cosine_similarity(movie_title, cosine_sim, movies_df, top_n=5):\n",
    "    movie_index = get_movie_index(movie_title, movies_df)\n",
    "    \n",
    "    if movie_index is None:\n",
    "        return []  # Return empty list if no good match is found\n",
    "    \n",
    "    # Get similarity scores for all movies\n",
    "    sim_scores = list(enumerate(cosine_sim[movie_index]))\n",
    "    \n",
    "    # Sort movies by similarity score\n",
    "    sim_scores = sorted(sim_scores, key=lambda x: x[1], reverse=True)\n",
    "    \n",
    "    # Get top N relevant movies (skip the first one, as it's the movie itself)\n",
    "    relevant_movies = [movies_df.iloc[i[0]]['title'] for i in sim_scores[1:top_n+1]]\n",
    "    \n",
    "    return relevant_movies\n",
    "\n",
    "# Function to recommend movies using KNN based on TF-IDF matrix\n",
    "def get_relevant_movies_knn(movie_title, knn_model, movies_df, tfidf_matrix, top_n=5):\n",
    "    # Get the movie index using fuzzy matching\n",
    "    movie_index = get_movie_index(movie_title, movies_df)\n",
    "    \n",
    "    if movie_index is None:\n",
    "        return []  # Return empty list if no good match is found\n",
    "    \n",
    "    # Get distances and indices of neighbors\n",
    "    distances, indices = knn_model.kneighbors(tfidf_matrix[movie_index], n_neighbors=top_n + 1)\n",
    "    \n",
    "    # Extract movie titles, skipping the first result (the movie itself)\n",
    "    relevant_movies = [movies_df.iloc[i]['title'] for i in indices[0][1:]]\n",
    "    \n",
    "    return relevant_movies\n",
    "\n",
    "# Function to evaluate precision and recall\n",
    "def evaluate_recommendations(true_relevant_movies, recommended_movies, top_n=5):\n",
    "    relevant_in_top_n = [movie for movie in recommended_movies[:top_n] if movie in true_relevant_movies]\n",
    "    precision_at_n = len(relevant_in_top_n) / top_n if top_n > 0 else 0\n",
    "    recall_at_n = len(relevant_in_top_n) / len(true_relevant_movies) if true_relevant_movies else 0\n",
    "    return precision_at_n, recall_at_n\n",
    "\n",
    "# Function to get the recommended movies and evaluate precision & recall\n",
    "def recommend_and_evaluate(movie_title, knn_model, cosine_sim, tfidf_matrix, movies_df, top_n=5):\n",
    "    \n",
    "    # Get relevant movies dynamically using cosine similarity\n",
    "    true_relevant_movies = get_relevant_movies_by_cosine_similarity(movie_title, cosine_sim, movies_df, top_n)\n",
    "    '''\n",
    "    if not true_relevant_movies:\n",
    "        print(\"No relevant movies found dynamically.\")\n",
    "        return None, None\n",
    "    \n",
    "    # Print relevant movies\n",
    "    print(f\"True Relevant Movies for '{movie_title}':\")\n",
    "    \n",
    "    for i, movie in enumerate(true_relevant_movies, 1):\n",
    "        print(f\"{i}. {movie}\")\n",
    "    '''\n",
    "    \n",
    "    # Get recommended movies using KNN\n",
    "    recommended_movies = get_relevant_movies_knn(movie_title, knn_model, movies_df, tfidf_matrix, top_n)\n",
    "    \n",
    "    # Print recommended movies\n",
    "    print(f\"\\nRecommended Movies for '{movie_title}':\")\n",
    "    for i, movie in enumerate(recommended_movies, 1):\n",
    "        print(f\"{i}. {movie}\")\n",
    "    \n",
    "    # Evaluate precision and recall\n",
    "    precision, recall = evaluate_recommendations(true_relevant_movies, recommended_movies, top_n)\n",
    "    \n",
    "    return recommended_movies, (precision, recall)\n",
    "\n",
    "# Sample movie title input from user\n",
    "movie_title_input = input(\"Enter the movie name: \")  # Example: User enters 'Spiderman'\n",
    "\n",
    "# Assuming cosine_sim, knn_model, and tfidf_matrix are already computed\n",
    "# Get the recommended movies and precision & recall for the input movie\n",
    "recommended_movies, (precision, recall) = recommend_and_evaluate(movie_title_input, knn, cosine_sim, tfidf_matrix, movies, top_n=5)\n",
    "\n",
    "# Print Precision and Recall values\n",
    "print(f\"\\nPrecision at 5: {precision}\")\n",
    "print(f\"Recall at 5: {recall}\")"
   ]
  },
  {
   "cell_type": "code",
   "execution_count": 42,
   "metadata": {},
   "outputs": [
    {
     "name": "stdout",
     "output_type": "stream",
     "text": [
      "Top contributing keywords: [('space', 0.33056231238690836), ('interstellar', 0.2947636379517511), ('wormhole', 0.28464281868798796), ('father', 0.18062222648272627), ('single', 0.16804786623259732)]\n"
     ]
    }
   ],
   "source": [
    "from sklearn.feature_extraction.text import TfidfVectorizer\n",
    "\n",
    "def get_top_keywords(movie_index, top_n=5):\n",
    "    \"\"\"Get top contributing keywords for a movie.\"\"\"\n",
    "    feature_array = np.array(tfidf.get_feature_names_out())\n",
    "    tfidf_scores = tfidf_matrix[movie_index].toarray().flatten()\n",
    "    top_indices = tfidf_scores.argsort()[-top_n:][::-1]\n",
    "    top_keywords = feature_array[top_indices]\n",
    "    top_scores = tfidf_scores[top_indices]\n",
    "    return list(zip(top_keywords, top_scores))\n",
    "\n",
    "# Example usage\n",
    "selected_movie_index = get_movie_index(\"Interstellar\", movies)\n",
    "top_keywords = get_top_keywords(selected_movie_index)\n",
    "print(\"Top contributing keywords:\", top_keywords)\n"
   ]
  },
  {
   "cell_type": "code",
   "execution_count": null,
   "metadata": {},
   "outputs": [],
   "source": []
  }
 ],
 "metadata": {
  "kernelspec": {
   "display_name": "base",
   "language": "python",
   "name": "python3"
  },
  "language_info": {
   "codemirror_mode": {
    "name": "ipython",
    "version": 3
   },
   "file_extension": ".py",
   "mimetype": "text/x-python",
   "name": "python",
   "nbconvert_exporter": "python",
   "pygments_lexer": "ipython3",
   "version": "3.11.5"
  }
 },
 "nbformat": 4,
 "nbformat_minor": 2
}
