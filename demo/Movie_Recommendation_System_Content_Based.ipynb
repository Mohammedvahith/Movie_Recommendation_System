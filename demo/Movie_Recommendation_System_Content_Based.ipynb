{
 "cells": [
  {
   "cell_type": "code",
   "execution_count": 8,
   "metadata": {},
   "outputs": [],
   "source": [
    "import pandas as pd\n",
    "from sklearn.feature_extraction.text import TfidfVectorizer\n",
    "import ast\n",
    "from sklearn.metrics.pairwise import cosine_similarity\n",
    "from fuzzywuzzy import process\n",
    "from sklearn.metrics import precision_score, recall_score, f1_score\n",
    "import numpy as np"
   ]
  },
  {
   "cell_type": "markdown",
   "metadata": {},
   "source": [
    "1. Data Exploration"
   ]
  },
  {
   "cell_type": "code",
   "execution_count": 10,
   "metadata": {},
   "outputs": [],
   "source": [
    "# Load the movie and credits data\n",
    "movies = pd.read_csv('../datasets/tmdb_5000_movies.csv')\n",
    "credits = pd.read_csv('../datasets/tmdb_5000_credits.csv')"
   ]
  },
  {
   "cell_type": "code",
   "execution_count": 11,
   "metadata": {},
   "outputs": [
    {
     "name": "stdout",
     "output_type": "stream",
     "text": [
      "      budget                                             genres  \\\n",
      "0  237000000  [{\"id\": 28, \"name\": \"Action\"}, {\"id\": 12, \"nam...   \n",
      "1  300000000  [{\"id\": 12, \"name\": \"Adventure\"}, {\"id\": 14, \"...   \n",
      "2  245000000  [{\"id\": 28, \"name\": \"Action\"}, {\"id\": 12, \"nam...   \n",
      "3  250000000  [{\"id\": 28, \"name\": \"Action\"}, {\"id\": 80, \"nam...   \n",
      "4  260000000  [{\"id\": 28, \"name\": \"Action\"}, {\"id\": 12, \"nam...   \n",
      "\n",
      "                                       homepage      id  \\\n",
      "0                   http://www.avatarmovie.com/   19995   \n",
      "1  http://disney.go.com/disneypictures/pirates/     285   \n",
      "2   http://www.sonypictures.com/movies/spectre/  206647   \n",
      "3            http://www.thedarkknightrises.com/   49026   \n",
      "4          http://movies.disney.com/john-carter   49529   \n",
      "\n",
      "                                            keywords original_language  \\\n",
      "0  [{\"id\": 1463, \"name\": \"culture clash\"}, {\"id\":...                en   \n",
      "1  [{\"id\": 270, \"name\": \"ocean\"}, {\"id\": 726, \"na...                en   \n",
      "2  [{\"id\": 470, \"name\": \"spy\"}, {\"id\": 818, \"name...                en   \n",
      "3  [{\"id\": 849, \"name\": \"dc comics\"}, {\"id\": 853,...                en   \n",
      "4  [{\"id\": 818, \"name\": \"based on novel\"}, {\"id\":...                en   \n",
      "\n",
      "                             original_title  \\\n",
      "0                                    Avatar   \n",
      "1  Pirates of the Caribbean: At World's End   \n",
      "2                                   Spectre   \n",
      "3                     The Dark Knight Rises   \n",
      "4                               John Carter   \n",
      "\n",
      "                                            overview  popularity  \\\n",
      "0  In the 22nd century, a paraplegic Marine is di...  150.437577   \n",
      "1  Captain Barbossa, long believed to be dead, ha...  139.082615   \n",
      "2  A cryptic message from Bond’s past sends him o...  107.376788   \n",
      "3  Following the death of District Attorney Harve...  112.312950   \n",
      "4  John Carter is a war-weary, former military ca...   43.926995   \n",
      "\n",
      "                                production_companies  \\\n",
      "0  [{\"name\": \"Ingenious Film Partners\", \"id\": 289...   \n",
      "1  [{\"name\": \"Walt Disney Pictures\", \"id\": 2}, {\"...   \n",
      "2  [{\"name\": \"Columbia Pictures\", \"id\": 5}, {\"nam...   \n",
      "3  [{\"name\": \"Legendary Pictures\", \"id\": 923}, {\"...   \n",
      "4        [{\"name\": \"Walt Disney Pictures\", \"id\": 2}]   \n",
      "\n",
      "                                production_countries release_date     revenue  \\\n",
      "0  [{\"iso_3166_1\": \"US\", \"name\": \"United States o...   2009-12-10  2787965087   \n",
      "1  [{\"iso_3166_1\": \"US\", \"name\": \"United States o...   2007-05-19   961000000   \n",
      "2  [{\"iso_3166_1\": \"GB\", \"name\": \"United Kingdom\"...   2015-10-26   880674609   \n",
      "3  [{\"iso_3166_1\": \"US\", \"name\": \"United States o...   2012-07-16  1084939099   \n",
      "4  [{\"iso_3166_1\": \"US\", \"name\": \"United States o...   2012-03-07   284139100   \n",
      "\n",
      "   runtime                                   spoken_languages    status  \\\n",
      "0    162.0  [{\"iso_639_1\": \"en\", \"name\": \"English\"}, {\"iso...  Released   \n",
      "1    169.0           [{\"iso_639_1\": \"en\", \"name\": \"English\"}]  Released   \n",
      "2    148.0  [{\"iso_639_1\": \"fr\", \"name\": \"Fran\\u00e7ais\"},...  Released   \n",
      "3    165.0           [{\"iso_639_1\": \"en\", \"name\": \"English\"}]  Released   \n",
      "4    132.0           [{\"iso_639_1\": \"en\", \"name\": \"English\"}]  Released   \n",
      "\n",
      "                                          tagline  \\\n",
      "0                     Enter the World of Pandora.   \n",
      "1  At the end of the world, the adventure begins.   \n",
      "2                           A Plan No One Escapes   \n",
      "3                                 The Legend Ends   \n",
      "4            Lost in our world, found in another.   \n",
      "\n",
      "                                      title  vote_average  vote_count  \n",
      "0                                    Avatar           7.2       11800  \n",
      "1  Pirates of the Caribbean: At World's End           6.9        4500  \n",
      "2                                   Spectre           6.3        4466  \n",
      "3                     The Dark Knight Rises           7.6        9106  \n",
      "4                               John Carter           6.1        2124  \n"
     ]
    }
   ],
   "source": [
    "print(movies.head())"
   ]
  },
  {
   "cell_type": "code",
   "execution_count": 12,
   "metadata": {},
   "outputs": [
    {
     "data": {
      "text/plain": [
       "(4803, 20)"
      ]
     },
     "execution_count": 12,
     "metadata": {},
     "output_type": "execute_result"
    }
   ],
   "source": [
    "movies.shape"
   ]
  },
  {
   "cell_type": "code",
   "execution_count": 13,
   "metadata": {},
   "outputs": [
    {
     "name": "stdout",
     "output_type": "stream",
     "text": [
      "Index(['budget', 'genres', 'homepage', 'id', 'keywords', 'original_language',\n",
      "       'original_title', 'overview', 'popularity', 'production_companies',\n",
      "       'production_countries', 'release_date', 'revenue', 'runtime',\n",
      "       'spoken_languages', 'status', 'tagline', 'title', 'vote_average',\n",
      "       'vote_count'],\n",
      "      dtype='object')\n",
      "Index(['movie_id', 'title', 'cast', 'crew'], dtype='object')\n"
     ]
    }
   ],
   "source": [
    "print(movies.columns)\n",
    "print(credits.columns)"
   ]
  },
  {
   "cell_type": "code",
   "execution_count": 14,
   "metadata": {},
   "outputs": [
    {
     "name": "stdout",
     "output_type": "stream",
     "text": [
      "   movie_id                                     title  \\\n",
      "0     19995                                    Avatar   \n",
      "1       285  Pirates of the Caribbean: At World's End   \n",
      "2    206647                                   Spectre   \n",
      "3     49026                     The Dark Knight Rises   \n",
      "4     49529                               John Carter   \n",
      "\n",
      "                                                cast  \\\n",
      "0  [{\"cast_id\": 242, \"character\": \"Jake Sully\", \"...   \n",
      "1  [{\"cast_id\": 4, \"character\": \"Captain Jack Spa...   \n",
      "2  [{\"cast_id\": 1, \"character\": \"James Bond\", \"cr...   \n",
      "3  [{\"cast_id\": 2, \"character\": \"Bruce Wayne / Ba...   \n",
      "4  [{\"cast_id\": 5, \"character\": \"John Carter\", \"c...   \n",
      "\n",
      "                                                crew  \n",
      "0  [{\"credit_id\": \"52fe48009251416c750aca23\", \"de...  \n",
      "1  [{\"credit_id\": \"52fe4232c3a36847f800b579\", \"de...  \n",
      "2  [{\"credit_id\": \"54805967c3a36829b5002c41\", \"de...  \n",
      "3  [{\"credit_id\": \"52fe4781c3a36847f81398c3\", \"de...  \n",
      "4  [{\"credit_id\": \"52fe479ac3a36847f813eaa3\", \"de...  \n"
     ]
    }
   ],
   "source": [
    "print(credits.head())"
   ]
  },
  {
   "cell_type": "markdown",
   "metadata": {},
   "source": [
    "2. Data Preprocessing"
   ]
  },
  {
   "cell_type": "code",
   "execution_count": 15,
   "metadata": {},
   "outputs": [
    {
     "data": {
      "text/plain": [
       "(4803, 4)"
      ]
     },
     "execution_count": 15,
     "metadata": {},
     "output_type": "execute_result"
    }
   ],
   "source": [
    "credits.shape"
   ]
  },
  {
   "cell_type": "code",
   "execution_count": 16,
   "metadata": {},
   "outputs": [
    {
     "name": "stdout",
     "output_type": "stream",
     "text": [
      "Index(['movie_id', 'title', 'cast', 'crew'], dtype='object')\n"
     ]
    }
   ],
   "source": [
    "print(credits.columns)"
   ]
  },
  {
   "cell_type": "code",
   "execution_count": 17,
   "metadata": {},
   "outputs": [],
   "source": [
    "# Rename 'movie_id' to 'id' in the credits dataframe to match the movies dataframe\n",
    "credits = credits.rename(columns={'movie_id': 'id'})"
   ]
  },
  {
   "cell_type": "code",
   "execution_count": 18,
   "metadata": {},
   "outputs": [
    {
     "name": "stdout",
     "output_type": "stream",
     "text": [
      "Index(['id', 'title', 'cast', 'crew'], dtype='object')\n"
     ]
    }
   ],
   "source": [
    "print(credits.columns)"
   ]
  },
  {
   "cell_type": "code",
   "execution_count": 19,
   "metadata": {},
   "outputs": [],
   "source": [
    "# Merge the movies dataframe with the credits dataframe on 'id'\n",
    "movies = movies.merge(credits, on='id')"
   ]
  },
  {
   "cell_type": "code",
   "execution_count": 20,
   "metadata": {},
   "outputs": [
    {
     "data": {
      "text/html": [
       "<div>\n",
       "<style scoped>\n",
       "    .dataframe tbody tr th:only-of-type {\n",
       "        vertical-align: middle;\n",
       "    }\n",
       "\n",
       "    .dataframe tbody tr th {\n",
       "        vertical-align: top;\n",
       "    }\n",
       "\n",
       "    .dataframe thead th {\n",
       "        text-align: right;\n",
       "    }\n",
       "</style>\n",
       "<table border=\"1\" class=\"dataframe\">\n",
       "  <thead>\n",
       "    <tr style=\"text-align: right;\">\n",
       "      <th></th>\n",
       "      <th>budget</th>\n",
       "      <th>genres</th>\n",
       "      <th>homepage</th>\n",
       "      <th>id</th>\n",
       "      <th>keywords</th>\n",
       "      <th>original_language</th>\n",
       "      <th>original_title</th>\n",
       "      <th>overview</th>\n",
       "      <th>popularity</th>\n",
       "      <th>production_companies</th>\n",
       "      <th>...</th>\n",
       "      <th>runtime</th>\n",
       "      <th>spoken_languages</th>\n",
       "      <th>status</th>\n",
       "      <th>tagline</th>\n",
       "      <th>title_x</th>\n",
       "      <th>vote_average</th>\n",
       "      <th>vote_count</th>\n",
       "      <th>title_y</th>\n",
       "      <th>cast</th>\n",
       "      <th>crew</th>\n",
       "    </tr>\n",
       "  </thead>\n",
       "  <tbody>\n",
       "    <tr>\n",
       "      <th>0</th>\n",
       "      <td>237000000</td>\n",
       "      <td>[{\"id\": 28, \"name\": \"Action\"}, {\"id\": 12, \"nam...</td>\n",
       "      <td>http://www.avatarmovie.com/</td>\n",
       "      <td>19995</td>\n",
       "      <td>[{\"id\": 1463, \"name\": \"culture clash\"}, {\"id\":...</td>\n",
       "      <td>en</td>\n",
       "      <td>Avatar</td>\n",
       "      <td>In the 22nd century, a paraplegic Marine is di...</td>\n",
       "      <td>150.437577</td>\n",
       "      <td>[{\"name\": \"Ingenious Film Partners\", \"id\": 289...</td>\n",
       "      <td>...</td>\n",
       "      <td>162.0</td>\n",
       "      <td>[{\"iso_639_1\": \"en\", \"name\": \"English\"}, {\"iso...</td>\n",
       "      <td>Released</td>\n",
       "      <td>Enter the World of Pandora.</td>\n",
       "      <td>Avatar</td>\n",
       "      <td>7.2</td>\n",
       "      <td>11800</td>\n",
       "      <td>Avatar</td>\n",
       "      <td>[{\"cast_id\": 242, \"character\": \"Jake Sully\", \"...</td>\n",
       "      <td>[{\"credit_id\": \"52fe48009251416c750aca23\", \"de...</td>\n",
       "    </tr>\n",
       "    <tr>\n",
       "      <th>1</th>\n",
       "      <td>300000000</td>\n",
       "      <td>[{\"id\": 12, \"name\": \"Adventure\"}, {\"id\": 14, \"...</td>\n",
       "      <td>http://disney.go.com/disneypictures/pirates/</td>\n",
       "      <td>285</td>\n",
       "      <td>[{\"id\": 270, \"name\": \"ocean\"}, {\"id\": 726, \"na...</td>\n",
       "      <td>en</td>\n",
       "      <td>Pirates of the Caribbean: At World's End</td>\n",
       "      <td>Captain Barbossa, long believed to be dead, ha...</td>\n",
       "      <td>139.082615</td>\n",
       "      <td>[{\"name\": \"Walt Disney Pictures\", \"id\": 2}, {\"...</td>\n",
       "      <td>...</td>\n",
       "      <td>169.0</td>\n",
       "      <td>[{\"iso_639_1\": \"en\", \"name\": \"English\"}]</td>\n",
       "      <td>Released</td>\n",
       "      <td>At the end of the world, the adventure begins.</td>\n",
       "      <td>Pirates of the Caribbean: At World's End</td>\n",
       "      <td>6.9</td>\n",
       "      <td>4500</td>\n",
       "      <td>Pirates of the Caribbean: At World's End</td>\n",
       "      <td>[{\"cast_id\": 4, \"character\": \"Captain Jack Spa...</td>\n",
       "      <td>[{\"credit_id\": \"52fe4232c3a36847f800b579\", \"de...</td>\n",
       "    </tr>\n",
       "    <tr>\n",
       "      <th>2</th>\n",
       "      <td>245000000</td>\n",
       "      <td>[{\"id\": 28, \"name\": \"Action\"}, {\"id\": 12, \"nam...</td>\n",
       "      <td>http://www.sonypictures.com/movies/spectre/</td>\n",
       "      <td>206647</td>\n",
       "      <td>[{\"id\": 470, \"name\": \"spy\"}, {\"id\": 818, \"name...</td>\n",
       "      <td>en</td>\n",
       "      <td>Spectre</td>\n",
       "      <td>A cryptic message from Bond’s past sends him o...</td>\n",
       "      <td>107.376788</td>\n",
       "      <td>[{\"name\": \"Columbia Pictures\", \"id\": 5}, {\"nam...</td>\n",
       "      <td>...</td>\n",
       "      <td>148.0</td>\n",
       "      <td>[{\"iso_639_1\": \"fr\", \"name\": \"Fran\\u00e7ais\"},...</td>\n",
       "      <td>Released</td>\n",
       "      <td>A Plan No One Escapes</td>\n",
       "      <td>Spectre</td>\n",
       "      <td>6.3</td>\n",
       "      <td>4466</td>\n",
       "      <td>Spectre</td>\n",
       "      <td>[{\"cast_id\": 1, \"character\": \"James Bond\", \"cr...</td>\n",
       "      <td>[{\"credit_id\": \"54805967c3a36829b5002c41\", \"de...</td>\n",
       "    </tr>\n",
       "    <tr>\n",
       "      <th>3</th>\n",
       "      <td>250000000</td>\n",
       "      <td>[{\"id\": 28, \"name\": \"Action\"}, {\"id\": 80, \"nam...</td>\n",
       "      <td>http://www.thedarkknightrises.com/</td>\n",
       "      <td>49026</td>\n",
       "      <td>[{\"id\": 849, \"name\": \"dc comics\"}, {\"id\": 853,...</td>\n",
       "      <td>en</td>\n",
       "      <td>The Dark Knight Rises</td>\n",
       "      <td>Following the death of District Attorney Harve...</td>\n",
       "      <td>112.312950</td>\n",
       "      <td>[{\"name\": \"Legendary Pictures\", \"id\": 923}, {\"...</td>\n",
       "      <td>...</td>\n",
       "      <td>165.0</td>\n",
       "      <td>[{\"iso_639_1\": \"en\", \"name\": \"English\"}]</td>\n",
       "      <td>Released</td>\n",
       "      <td>The Legend Ends</td>\n",
       "      <td>The Dark Knight Rises</td>\n",
       "      <td>7.6</td>\n",
       "      <td>9106</td>\n",
       "      <td>The Dark Knight Rises</td>\n",
       "      <td>[{\"cast_id\": 2, \"character\": \"Bruce Wayne / Ba...</td>\n",
       "      <td>[{\"credit_id\": \"52fe4781c3a36847f81398c3\", \"de...</td>\n",
       "    </tr>\n",
       "    <tr>\n",
       "      <th>4</th>\n",
       "      <td>260000000</td>\n",
       "      <td>[{\"id\": 28, \"name\": \"Action\"}, {\"id\": 12, \"nam...</td>\n",
       "      <td>http://movies.disney.com/john-carter</td>\n",
       "      <td>49529</td>\n",
       "      <td>[{\"id\": 818, \"name\": \"based on novel\"}, {\"id\":...</td>\n",
       "      <td>en</td>\n",
       "      <td>John Carter</td>\n",
       "      <td>John Carter is a war-weary, former military ca...</td>\n",
       "      <td>43.926995</td>\n",
       "      <td>[{\"name\": \"Walt Disney Pictures\", \"id\": 2}]</td>\n",
       "      <td>...</td>\n",
       "      <td>132.0</td>\n",
       "      <td>[{\"iso_639_1\": \"en\", \"name\": \"English\"}]</td>\n",
       "      <td>Released</td>\n",
       "      <td>Lost in our world, found in another.</td>\n",
       "      <td>John Carter</td>\n",
       "      <td>6.1</td>\n",
       "      <td>2124</td>\n",
       "      <td>John Carter</td>\n",
       "      <td>[{\"cast_id\": 5, \"character\": \"John Carter\", \"c...</td>\n",
       "      <td>[{\"credit_id\": \"52fe479ac3a36847f813eaa3\", \"de...</td>\n",
       "    </tr>\n",
       "  </tbody>\n",
       "</table>\n",
       "<p>5 rows × 23 columns</p>\n",
       "</div>"
      ],
      "text/plain": [
       "      budget                                             genres  \\\n",
       "0  237000000  [{\"id\": 28, \"name\": \"Action\"}, {\"id\": 12, \"nam...   \n",
       "1  300000000  [{\"id\": 12, \"name\": \"Adventure\"}, {\"id\": 14, \"...   \n",
       "2  245000000  [{\"id\": 28, \"name\": \"Action\"}, {\"id\": 12, \"nam...   \n",
       "3  250000000  [{\"id\": 28, \"name\": \"Action\"}, {\"id\": 80, \"nam...   \n",
       "4  260000000  [{\"id\": 28, \"name\": \"Action\"}, {\"id\": 12, \"nam...   \n",
       "\n",
       "                                       homepage      id  \\\n",
       "0                   http://www.avatarmovie.com/   19995   \n",
       "1  http://disney.go.com/disneypictures/pirates/     285   \n",
       "2   http://www.sonypictures.com/movies/spectre/  206647   \n",
       "3            http://www.thedarkknightrises.com/   49026   \n",
       "4          http://movies.disney.com/john-carter   49529   \n",
       "\n",
       "                                            keywords original_language  \\\n",
       "0  [{\"id\": 1463, \"name\": \"culture clash\"}, {\"id\":...                en   \n",
       "1  [{\"id\": 270, \"name\": \"ocean\"}, {\"id\": 726, \"na...                en   \n",
       "2  [{\"id\": 470, \"name\": \"spy\"}, {\"id\": 818, \"name...                en   \n",
       "3  [{\"id\": 849, \"name\": \"dc comics\"}, {\"id\": 853,...                en   \n",
       "4  [{\"id\": 818, \"name\": \"based on novel\"}, {\"id\":...                en   \n",
       "\n",
       "                             original_title  \\\n",
       "0                                    Avatar   \n",
       "1  Pirates of the Caribbean: At World's End   \n",
       "2                                   Spectre   \n",
       "3                     The Dark Knight Rises   \n",
       "4                               John Carter   \n",
       "\n",
       "                                            overview  popularity  \\\n",
       "0  In the 22nd century, a paraplegic Marine is di...  150.437577   \n",
       "1  Captain Barbossa, long believed to be dead, ha...  139.082615   \n",
       "2  A cryptic message from Bond’s past sends him o...  107.376788   \n",
       "3  Following the death of District Attorney Harve...  112.312950   \n",
       "4  John Carter is a war-weary, former military ca...   43.926995   \n",
       "\n",
       "                                production_companies  ... runtime  \\\n",
       "0  [{\"name\": \"Ingenious Film Partners\", \"id\": 289...  ...   162.0   \n",
       "1  [{\"name\": \"Walt Disney Pictures\", \"id\": 2}, {\"...  ...   169.0   \n",
       "2  [{\"name\": \"Columbia Pictures\", \"id\": 5}, {\"nam...  ...   148.0   \n",
       "3  [{\"name\": \"Legendary Pictures\", \"id\": 923}, {\"...  ...   165.0   \n",
       "4        [{\"name\": \"Walt Disney Pictures\", \"id\": 2}]  ...   132.0   \n",
       "\n",
       "                                    spoken_languages    status  \\\n",
       "0  [{\"iso_639_1\": \"en\", \"name\": \"English\"}, {\"iso...  Released   \n",
       "1           [{\"iso_639_1\": \"en\", \"name\": \"English\"}]  Released   \n",
       "2  [{\"iso_639_1\": \"fr\", \"name\": \"Fran\\u00e7ais\"},...  Released   \n",
       "3           [{\"iso_639_1\": \"en\", \"name\": \"English\"}]  Released   \n",
       "4           [{\"iso_639_1\": \"en\", \"name\": \"English\"}]  Released   \n",
       "\n",
       "                                          tagline  \\\n",
       "0                     Enter the World of Pandora.   \n",
       "1  At the end of the world, the adventure begins.   \n",
       "2                           A Plan No One Escapes   \n",
       "3                                 The Legend Ends   \n",
       "4            Lost in our world, found in another.   \n",
       "\n",
       "                                    title_x vote_average vote_count  \\\n",
       "0                                    Avatar          7.2      11800   \n",
       "1  Pirates of the Caribbean: At World's End          6.9       4500   \n",
       "2                                   Spectre          6.3       4466   \n",
       "3                     The Dark Knight Rises          7.6       9106   \n",
       "4                               John Carter          6.1       2124   \n",
       "\n",
       "                                    title_y  \\\n",
       "0                                    Avatar   \n",
       "1  Pirates of the Caribbean: At World's End   \n",
       "2                                   Spectre   \n",
       "3                     The Dark Knight Rises   \n",
       "4                               John Carter   \n",
       "\n",
       "                                                cast  \\\n",
       "0  [{\"cast_id\": 242, \"character\": \"Jake Sully\", \"...   \n",
       "1  [{\"cast_id\": 4, \"character\": \"Captain Jack Spa...   \n",
       "2  [{\"cast_id\": 1, \"character\": \"James Bond\", \"cr...   \n",
       "3  [{\"cast_id\": 2, \"character\": \"Bruce Wayne / Ba...   \n",
       "4  [{\"cast_id\": 5, \"character\": \"John Carter\", \"c...   \n",
       "\n",
       "                                                crew  \n",
       "0  [{\"credit_id\": \"52fe48009251416c750aca23\", \"de...  \n",
       "1  [{\"credit_id\": \"52fe4232c3a36847f800b579\", \"de...  \n",
       "2  [{\"credit_id\": \"54805967c3a36829b5002c41\", \"de...  \n",
       "3  [{\"credit_id\": \"52fe4781c3a36847f81398c3\", \"de...  \n",
       "4  [{\"credit_id\": \"52fe479ac3a36847f813eaa3\", \"de...  \n",
       "\n",
       "[5 rows x 23 columns]"
      ]
     },
     "execution_count": 20,
     "metadata": {},
     "output_type": "execute_result"
    }
   ],
   "source": [
    "# Check the first few rows of the merged dataframe\n",
    "movies.head()"
   ]
  },
  {
   "cell_type": "code",
   "execution_count": 21,
   "metadata": {},
   "outputs": [],
   "source": [
    "# Fill any missing values in the 'genres' and 'cast' columns\n",
    "movies['genres'] = movies['genres'].fillna('')\n",
    "movies['cast'] = movies['cast'].fillna('')"
   ]
  },
  {
   "cell_type": "code",
   "execution_count": 22,
   "metadata": {},
   "outputs": [],
   "source": [
    "# Convert genres from string to list\n",
    "movies['genres'] = movies['genres'].apply(lambda x: [i['name'] for i in ast.literal_eval(x)] if isinstance(x, str) else [])\n",
    "\n",
    "# Convert cast from string to list (first 3 actors for simplicity)\n",
    "movies['cast'] = movies['cast'].apply(lambda x: [i['name'] for i in ast.literal_eval(x)] if isinstance(x, str) else [])"
   ]
  },
  {
   "cell_type": "markdown",
   "metadata": {},
   "source": [
    "3. Content-Based Filtering"
   ]
  },
  {
   "cell_type": "code",
   "execution_count": 23,
   "metadata": {},
   "outputs": [],
   "source": [
    "# Combine genres and cast into a single string (for each movie)\n",
    "movies['combined_features'] = movies['genres'].apply(lambda x: ' '.join(x)) + ' ' + movies['cast'].apply(lambda x: ' '.join(x))\n"
   ]
  },
  {
   "cell_type": "code",
   "execution_count": 24,
   "metadata": {},
   "outputs": [],
   "source": [
    "# Initialize the TF-IDF Vectorizer\n",
    "tfidf = TfidfVectorizer(stop_words='english')\n",
    "\n",
    "# Fit the vectorizer on the 'combined_features' column\n",
    "tfidf_matrix = tfidf.fit_transform(movies['combined_features'])"
   ]
  },
  {
   "cell_type": "markdown",
   "metadata": {},
   "source": [
    "4. Cosine Similarity Matrix"
   ]
  },
  {
   "cell_type": "code",
   "execution_count": 25,
   "metadata": {},
   "outputs": [],
   "source": [
    "\n",
    "# Compute the cosine similarity matrix\n",
    "cosine_sim = cosine_similarity(tfidf_matrix, tfidf_matrix)"
   ]
  },
  {
   "cell_type": "code",
   "execution_count": 26,
   "metadata": {},
   "outputs": [
    {
     "name": "stdout",
     "output_type": "stream",
     "text": [
      "Index(['budget', 'genres', 'homepage', 'id', 'keywords', 'original_language',\n",
      "       'original_title', 'overview', 'popularity', 'production_companies',\n",
      "       'production_countries', 'release_date', 'revenue', 'runtime',\n",
      "       'spoken_languages', 'status', 'tagline', 'title_x', 'vote_average',\n",
      "       'vote_count', 'title_y', 'cast', 'crew', 'combined_features'],\n",
      "      dtype='object')\n"
     ]
    }
   ],
   "source": [
    "# Check the columns of the merged DataFrame to verify 'title'\n",
    "print(movies.columns)"
   ]
  },
  {
   "cell_type": "code",
   "execution_count": 27,
   "metadata": {},
   "outputs": [],
   "source": [
    "# Drop 'title_y' column and rename 'title_x' to 'title'\n",
    "movies = movies.drop(columns=['title_y'])\n",
    "movies = movies.rename(columns={'title_x': 'title'})"
   ]
  },
  {
   "cell_type": "markdown",
   "metadata": {},
   "source": [
    "5. Testing Recommendations Based on Similarity"
   ]
  },
  {
   "cell_type": "code",
   "execution_count": 28,
   "metadata": {},
   "outputs": [
    {
     "name": "stdout",
     "output_type": "stream",
     "text": [
      "79                         Iron Man 2\n",
      "31                         Iron Man 3\n",
      "361     You Don't Mess with the Zohan\n",
      "16                       The Avengers\n",
      "2000                Anywhere But Here\n",
      "Name: title, dtype: object\n"
     ]
    }
   ],
   "source": [
    "# Function to get movie recommendations based on similarity\n",
    "def recommend_movie(movie_title, cosine_sim, movies_df, top_n=5):\n",
    "    # Get the index of the movie from the title\n",
    "    idx = movies_df[movies_df['title'] == movie_title].index[0]\n",
    "    \n",
    "    # Get similarity scores for all movies\n",
    "    sim_scores = list(enumerate(cosine_sim[idx]))\n",
    "    \n",
    "    # Sort movies by similarity score\n",
    "    sim_scores = sorted(sim_scores, key=lambda x: x[1], reverse=True)\n",
    "    \n",
    "    # Get the top_n most similar movies (excluding the movie itself)\n",
    "    sim_scores = sim_scores[1:top_n+1]\n",
    "    \n",
    "    # Get movie indices and titles\n",
    "    movie_indices = [i[0] for i in sim_scores]\n",
    "    movie_titles = movies_df['title'].iloc[movie_indices]\n",
    "    \n",
    "    return movie_titles\n",
    "\n",
    "# Example: Recommend 5 movies similar to 'The Dark Knight'\n",
    "recommended_movies = recommend_movie('Iron Man', cosine_sim, movies, top_n=5)\n",
    "print(recommended_movies)"
   ]
  },
  {
   "cell_type": "code",
   "execution_count": 29,
   "metadata": {},
   "outputs": [
    {
     "name": "stdout",
     "output_type": "stream",
     "text": [
      "0     culture clash future space war space colony s...\n",
      "1     ocean drug abuse exotic island east india tra...\n",
      "2     spy based on novel secret agent sequel mi6 br...\n",
      "3     dc comics crime fighter terrorist secret iden...\n",
      "4     based on novel mars medallion space travel pr...\n",
      "Name: combined_features, dtype: object\n"
     ]
    }
   ],
   "source": [
    "# Function to extract 'name' from a list of dictionaries\n",
    "def extract_names(data):\n",
    "    try:\n",
    "        # If the data is a string representation of a list, convert it back to a list\n",
    "        if isinstance(data, str):\n",
    "            data = ast.literal_eval(data)\n",
    "        \n",
    "        # If it's a list of dictionaries, extract the 'name' field from each dictionary\n",
    "        if isinstance(data, list):\n",
    "            names = [item['name'] for item in data if isinstance(item, dict)]\n",
    "            return \" \".join(names)  # Join names with a space\n",
    "        else:\n",
    "            return \"\"  # Return empty string if it's not a valid list\n",
    "    except: \n",
    "        return \"\"  # Return empty string if an error occurs\n",
    "\n",
    "# Function to combine features into a single string\n",
    "def combine_features(row):\n",
    "    # Extract the 'name' field for each feature (genres, keywords, cast)\n",
    "    genres = extract_names(row['genres'])\n",
    "    keywords = extract_names(row['keywords'])\n",
    "    cast = extract_names(row['cast'])\n",
    "    overview = str(row['overview'])  # Ensure 'overview' is a string\n",
    "    \n",
    "    # Combine all features into a single string\n",
    "    return genres + ' ' + keywords + ' ' + cast + ' ' + overview\n",
    "\n",
    "# Apply the function to create the 'combined_features' column\n",
    "movies['combined_features'] = movies.apply(combine_features, axis=1)\n",
    "\n",
    "# Check the combined features\n",
    "print(movies['combined_features'].head())\n"
   ]
  },
  {
   "cell_type": "code",
   "execution_count": 30,
   "metadata": {},
   "outputs": [
    {
     "name": "stdout",
     "output_type": "stream",
     "text": [
      "(4803, 23005)\n"
     ]
    }
   ],
   "source": [
    "# Initialize the vectorizer\n",
    "tfidf = TfidfVectorizer(stop_words='english')\n",
    "\n",
    "# Fit and transform the combined features\n",
    "tfidf_matrix = tfidf.fit_transform(movies['combined_features'])\n",
    "\n",
    "# Check the shape of the tfidf_matrix\n",
    "print(tfidf_matrix.shape)"
   ]
  },
  {
   "cell_type": "code",
   "execution_count": 31,
   "metadata": {},
   "outputs": [
    {
     "name": "stdout",
     "output_type": "stream",
     "text": [
      "(4803, 4803)\n"
     ]
    }
   ],
   "source": [
    "# Compute the cosine similarity matrix\n",
    "cosine_sim = cosine_similarity(tfidf_matrix, tfidf_matrix)\n",
    "\n",
    "# Check the cosine similarity matrix\n",
    "print(cosine_sim.shape)"
   ]
  },
  {
   "cell_type": "code",
   "execution_count": 32,
   "metadata": {},
   "outputs": [],
   "source": [
    "def clean_keywords(keywords_str):\n",
    "    # If the keyword string is empty or None, return an empty set\n",
    "    if not keywords_str:\n",
    "        return set()  # Return empty set if no keywords exist\n",
    "    \n",
    "    try:\n",
    "        # Safely evaluate the string to convert it to a list of dictionaries\n",
    "        keywords_list = ast.literal_eval(keywords_str)\n",
    "    except:\n",
    "        return set()  # Return empty set if evaluation fails\n",
    "    \n",
    "    # Extract 'name' field from each dictionary in the list (if it's a dictionary and has 'name' key)\n",
    "    cleaned_keywords = [kw['name'] for kw in keywords_list if isinstance(kw, dict) and 'name' in kw]\n",
    "    \n",
    "    # Debugging: Print cleaned keywords\n",
    "    #print(f\"Cleaned keywords: {cleaned_keywords}\")\n",
    "    \n",
    "    # Return a set of cleaned keywords\n",
    "    return set(cleaned_keywords)"
   ]
  },
  {
   "cell_type": "code",
   "execution_count": 33,
   "metadata": {},
   "outputs": [],
   "source": [
    "# This code for relevent movies\n",
    "def get_movie_index(movie_title, movies_df):\n",
    "    # Use fuzzy matching to find the best match\n",
    "    best_match, score = process.extractOne(movie_title, movies_df['title'].values)\n",
    "    \n",
    "    if score < 70:  # Threshold to avoid incorrect matches\n",
    "        print(f\"Movie '{movie_title}' not found or doesn't match closely enough.\")\n",
    "        return None  # Return None if no good match is found\n",
    "    \n",
    "    # Get the index of the matched movie\n",
    "    movie_index = movies_df[movies_df['title'] == best_match].index[0]\n",
    "    return movie_index\n",
    "\n",
    "def get_relevant_movies_by_similarity(movie_title, similarity_matrix, movies_df, top_n=5):\n",
    "    # Get the movie index using fuzzy matching\n",
    "    movie_index = get_movie_index(movie_title, movies_df)\n",
    "    \n",
    "    if movie_index is None:\n",
    "        return []  # Return empty list if no good match is found\n",
    "    \n",
    "    # Get similarity scores for all movies\n",
    "    similarity_scores = list(enumerate(similarity_matrix[movie_index]))\n",
    "    \n",
    "    # Sort movies by similarity score\n",
    "    sorted_scores = sorted(similarity_scores, key=lambda x: x[1], reverse=True)\n",
    "    \n",
    "    # Get top N relevant movies (skip the first one, as it's the selected movie itself)\n",
    "    relevant_movies = [movies_df.iloc[i[0]]['title'] for i in sorted_scores[1:top_n+1]]\n",
    "    \n",
    "    return relevant_movies\n",
    "\n",
    "# End of relevent movies \n",
    "\n",
    "\n",
    "def evaluate_recommendations(recommended_movies, relevant_movies, top_n):\n",
    "    \"\"\"\n",
    "    Evaluate the recommendations using Precision, Recall, and F1-score.\n",
    "    \"\"\"\n",
    "    # If the recommended_movies list is shorter than top_n, pad with empty strings\n",
    "    if len(recommended_movies) < top_n:\n",
    "        recommended_movies.extend([\"\"] * (top_n - len(recommended_movies)))\n",
    "    \n",
    "    # Convert to binary lists (1 if movie is relevant, 0 if not)\n",
    "    y_true = [1 if movie in relevant_movies else 0 for movie in recommended_movies[:top_n]]\n",
    "    y_pred = [1 if movie in recommended_movies[:top_n] else 0 for movie in recommended_movies[:top_n]]\n",
    "    \n",
    "    # Use zero_division=1 to avoid the warning and set a default value for undefined recall\n",
    "    precision = precision_score(y_true, y_pred, zero_division=1)\n",
    "    recall = recall_score(y_true, y_pred, zero_division=1)\n",
    "    f1 = f1_score(y_true, y_pred, zero_division=1)\n",
    "    \n",
    "    return precision, recall, f1\n",
    "\n",
    "def recommend_with_explanation(movie_title, similarity_matrix, movies_df, top_n=3, relevant_movies=None):\n",
    "    # Step 1: Use fuzzy matching to find the best movie title in the dataset\n",
    "    best_match, score = process.extractOne(movie_title, movies_df['title'].values)\n",
    "    \n",
    "    if score < 70:  # You can adjust the threshold as needed\n",
    "        print(f\"Movie '{movie_title}' not found with a good match in the dataset.\")\n",
    "        return [], [], None  # Return empty lists and None for metrics\n",
    "\n",
    "    movie_index = movies_df[movies_df['title'] == best_match].index[0]\n",
    "    \n",
    "    # Step 2: Get similarity scores for all movies\n",
    "    similarity_scores = list(enumerate(similarity_matrix[movie_index]))\n",
    "    \n",
    "    # Step 3: Sort movies by similarity score\n",
    "    sorted_scores = sorted(similarity_scores, key=lambda x: x[1], reverse=True)\n",
    "    \n",
    "    recommendations = []\n",
    "    explanations = []\n",
    "    \n",
    "    for i in sorted_scores[1:top_n+1]:  # Skip the first movie (the selected one itself)\n",
    "        similar_movie_index = i[0]\n",
    "        similar_movie_title = movies_df.iloc[similar_movie_index]['title']\n",
    "        \n",
    "        # Step 5: Compute overlapping features\n",
    "        genres_overlap = set(movies_df.iloc[movie_index]['genres']).intersection(\n",
    "            set(movies_df.iloc[similar_movie_index]['genres'])\n",
    "        )\n",
    "        \n",
    "        keywords_overlap = clean_keywords(movies_df.iloc[movie_index]['keywords']).intersection(\n",
    "            clean_keywords(movies_df.iloc[similar_movie_index]['keywords'])\n",
    "        )\n",
    "        \n",
    "        cast_overlap = set(movies_df.iloc[movie_index]['cast']).intersection(\n",
    "            set(movies_df.iloc[similar_movie_index]['cast'])\n",
    "        )\n",
    "        \n",
    "        # Step 6: Construct an explanation\n",
    "        explanation = f\"{similar_movie_title} is recommended because it shares:\\n\"\n",
    "        if genres_overlap:\n",
    "            explanation += f\"- Genres: {', '.join(genres_overlap)}\\n\"\n",
    "        if keywords_overlap:\n",
    "            explanation += f\"- Keywords: {', '.join(keywords_overlap)}\\n\"\n",
    "        if cast_overlap:\n",
    "            explanation += f\"- Cast: {', '.join(cast_overlap)}\\n\"\n",
    "        \n",
    "        # Append recommendation and explanation\n",
    "        recommendations.append(similar_movie_title)\n",
    "        explanations.append(explanation)\n",
    "    \n",
    "    # Evaluate the recommendations if relevant_movies is provided\n",
    "    if relevant_movies:\n",
    "        precision, recall, f1 = evaluate_recommendations(recommendations, relevant_movies, top_n)\n",
    "        return recommendations, explanations, (precision, recall, f1)\n",
    "    \n",
    "    return recommendations, explanations, None"
   ]
  },
  {
   "cell_type": "code",
   "execution_count": 36,
   "metadata": {},
   "outputs": [
    {
     "name": "stdout",
     "output_type": "stream",
     "text": [
      "Did you mean 'Pirates of the Caribbean: At World's End'?\n",
      "\n",
      "Recommended Movie: Pirates of the Caribbean: Dead Man's Chest\n",
      "Explanation: Pirates of the Caribbean: Dead Man's Chest is recommended because it shares:\n",
      "- Genres: Action, Fantasy, Adventure\n",
      "- Keywords: east india trading company, aftercreditsstinger, swashbuckler, pirate, exotic island, ship\n",
      "- Cast: Lauren Maher, Lee Arenberg, David Schofield, Reggie Lee, Jack Davenport, Keira Knightley, Bill Nighy, Jonathan Pryce, Johnny Depp, Christopher S. Capp, David Bailie, Orlando Bloom, Stellan Skarsgård, Naomie Harris, Peter Donald Badalamenti II, Martin Klebba, Geoffrey Rush, Andy Beckwith, Ho-Kwan Tse, Vanessa Branch, Mackenzie Crook, Kevin McNally, Tom Hollander\n",
      "\n",
      "\n",
      "Recommended Movie: Pirates of the Caribbean: The Curse of the Black Pearl\n",
      "Explanation: Pirates of the Caribbean: The Curse of the Black Pearl is recommended because it shares:\n",
      "- Genres: Action, Fantasy, Adventure\n",
      "- Keywords: east india trading company, aftercreditsstinger, swashbuckler, pirate, exotic island\n",
      "- Cast: Lauren Maher, Lee Arenberg, Angus Barnett, Johnny Depp, Geoffrey Rush, Giles New, Greg Ellis, Jack Davenport, Vanessa Branch, Keira Knightley, Jonathan Pryce, Mackenzie Crook, Christopher S. Capp, David Bailie, Kevin McNally, Orlando Bloom, Martin Klebba\n",
      "\n",
      "\n",
      "Recommended Movie: Pirates of the Caribbean: On Stranger Tides\n",
      "Explanation: Pirates of the Caribbean: On Stranger Tides is recommended because it shares:\n",
      "- Genres: Action, Fantasy, Adventure\n",
      "- Keywords: swashbuckler, pirate, ship, aftercreditsstinger\n",
      "- Cast: Johnny Depp, Geoffrey Rush, Keith Richards, Greg Ellis, Kevin McNally\n",
      "\n",
      "\n",
      "Recommended Movie: The Pirates! In an Adventure with Scientists!\n",
      "Explanation: The Pirates! In an Adventure with Scientists! is recommended because it shares:\n",
      "- Genres: Adventure\n",
      "- Keywords: pirate, aftercreditsstinger\n",
      "\n",
      "\n",
      "Recommended Movie: The Blue Lagoon\n",
      "Explanation: The Blue Lagoon is recommended because it shares:\n",
      "- Genres: Adventure\n",
      "- Keywords: shipwreck\n",
      "\n",
      "\n",
      "Evaluation Metrics:\n",
      "Precision: 0.60\n",
      "Recall: 1.00\n",
      "F1 Score: 0.75\n"
     ]
    }
   ],
   "source": [
    "# Input movie title\n",
    "movie_title = input(\"Enter the movie name: \")\n",
    "\n",
    "# Assume the relevant_movies is a list of movie titles that are relevant to the user\n",
    "relevant_movies = get_relevant_movies_by_similarity(movie_title, cosine_sim, movies, top_n=3)  # This should be dynamically determined\n",
    "\n",
    "# Ensure the movie title exists in the dataset using fuzzy matching\n",
    "best_match, score = process.extractOne(movie_title, movies['title'].values)\n",
    "\n",
    "if score < 70:  # You can adjust the threshold as needed\n",
    "    print(f\"Movie '{movie_title}' not found in the dataset with a good match.\")\n",
    "else:\n",
    "    print(f\"Did you mean '{best_match}'?\")\n",
    "    recommendations, explanations, metrics = recommend_with_explanation(best_match, cosine_sim, movies, top_n=5, relevant_movies=relevant_movies)\n",
    "\n",
    "    if recommendations:\n",
    "        for i in range(len(recommendations)):\n",
    "            print(f\"\\nRecommended Movie: {recommendations[i]}\")\n",
    "            print(f\"Explanation: {explanations[i]}\")\n",
    "        \n",
    "        if metrics:\n",
    "            precision, recall, f1 = metrics\n",
    "            print(f\"\\nEvaluation Metrics:\")\n",
    "            print(f\"Precision: {precision:.2f}\")\n",
    "            print(f\"Recall: {recall:.2f}\")\n",
    "            print(f\"F1 Score: {f1:.2f}\")\n",
    "    else:\n",
    "        print(\"No recommendations found.\")"
   ]
  },
  {
   "cell_type": "code",
   "execution_count": null,
   "metadata": {},
   "outputs": [],
   "source": []
  }
 ],
 "metadata": {
  "kernelspec": {
   "display_name": "base",
   "language": "python",
   "name": "python3"
  },
  "language_info": {
   "codemirror_mode": {
    "name": "ipython",
    "version": 3
   },
   "file_extension": ".py",
   "mimetype": "text/x-python",
   "name": "python",
   "nbconvert_exporter": "python",
   "pygments_lexer": "ipython3",
   "version": "3.11.5"
  }
 },
 "nbformat": 4,
 "nbformat_minor": 2
}
